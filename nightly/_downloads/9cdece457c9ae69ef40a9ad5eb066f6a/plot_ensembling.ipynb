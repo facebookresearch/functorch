{
  "cells": [
    {
      "cell_type": "code",
      "execution_count": null,
      "metadata": {
        "collapsed": false
      },
      "outputs": [],
      "source": [
        "%matplotlib inline"
      ]
    },
    {
      "cell_type": "markdown",
      "metadata": {},
      "source": [
        "\n# Model ensembling\nThis example illustrates how to vectorize model ensembling using vmap.\n\n## What is model ensembling?\nModel ensembling combines the predictions from multiple models together.\nTraditionally this is done by running each model on some inputs separately\nand then combining the predictions. However, if you're running models with\nthe same architecture, then it may be possible to combine them together\nusing ``vmap``. ``vmap`` is a function transform that maps functions across\ndimensions of the input tensors. One of its use cases is eliminating\nfor-loops and speeding them up through vectorization.\n\nLet's demonstrate how to do this using an ensemble of simple CNNs.\n"
      ]
    },
    {
      "cell_type": "code",
      "execution_count": null,
      "metadata": {
        "collapsed": false
      },
      "outputs": [],
      "source": [
        "import torch\nimport torch.nn as nn\nimport torch.nn.functional as F\nfrom functools import partial\ntorch.manual_seed(0)\n\n# Here's a simple CNN\nclass SimpleCNN(nn.Module):\n    def __init__(self):\n        super(SimpleCNN, self).__init__()\n        self.conv1 = nn.Conv2d(1, 32, 3, 1)\n        self.conv2 = nn.Conv2d(32, 64, 3, 1)\n        self.fc1 = nn.Linear(9216, 128)\n        self.fc2 = nn.Linear(128, 10)\n\n    def forward(self, x):\n        x = self.conv1(x)\n        x = F.relu(x)\n        x = self.conv2(x)\n        x = F.relu(x)\n        x = F.max_pool2d(x, 2)\n        x = torch.flatten(x, 1)\n        x = self.fc1(x)\n        x = F.relu(x)\n        x = self.fc2(x)\n        output = F.log_softmax(x, dim=1)\n        output = x\n        return output\n\n# Let's generate some dummy data. Pretend that we're working with an MNIST dataset\n# where the images are 28 by 28.\n# Furthermore, let's say we wish to combine the predictions from 10 different\n# models.\ndevice = 'cuda'\nnum_models = 10\ndata = torch.randn(100, 64, 1, 28, 28, device=device)\ntargets = torch.randint(10, (6400,), device=device)\nmodels = [SimpleCNN().to(device) for _ in range(num_models)]\n\n# We have a couple of options for generating predictions. Maybe we want\n# to give each model a different randomized minibatch of data, or maybe we\n# want to run the same minibatch of data through each model (e.g. if we were\n# testing the effect of different model initializations).\n\n# Option 1: different minibatch for each model\nminibatches = data[:num_models]\npredictions1 = [model(minibatch) for model, minibatch in zip(models, minibatches)]\n\n# Option 2: Same minibatch\nminibatch = data[0]\npredictions2 = [model(minibatch) for model in models]"
      ]
    },
    {
      "cell_type": "markdown",
      "metadata": {},
      "source": [
        "## Using vmap to vectorize the ensemble\nLet's use ``vmap`` to speed up the for-loop. We must first prepare the models\nfor use with ``vmap``.\n\nFirst, let's combine the states of the model together by stacking each parameter.\nFor example, model[i].fc1.weight has shape [9216, 128]; we are going to stack the\n.fc1.weight of each of the 10 models to produce a big weight of shape [10, 9216, 128].\n\nfunctorch offers the following convenience function to do that. It returns a\nstateless version of the model (fmodel) and stacked parameters and buffers.\n\n"
      ]
    },
    {
      "cell_type": "code",
      "execution_count": null,
      "metadata": {
        "collapsed": false
      },
      "outputs": [],
      "source": [
        "from functorch import combine_state_for_ensemble\nfmodel, params, buffers = combine_state_for_ensemble(models)\n[p.requires_grad_() for p in params]\n\n# Option 1: get predictions using a different minibatch for each model.\n# By default, vmap maps a function across the first dimension of all inputs to the\n# passed-in function. After `combine_state_for_ensemble`, each of of ``params``,\n# ``buffers`` have an additional dimension of size ``num_models`` at the front;\n# and ``minibatches`` has a dimension of size ``num_models``.\nprint([p.size(0) for p in params])\nassert minibatches.shape == (num_models, 64, 1, 28, 28)\nfrom functorch import vmap\npredictions1_vmap = vmap(fmodel)(params, buffers, minibatches)\nassert torch.allclose(predictions1_vmap, torch.stack(predictions1), atol=1e-6, rtol=1e-6)\n\n# Option 2: get predictions using the same minibatch of data\n# vmap has an in_dims arg that specify which dimensions to map over.\n# Using ``None``, we tell vmap we want the same minibatch to apply for all of\n# the 10 models.\npredictions2_vmap = vmap(fmodel, in_dims=(0, 0, None))(params, buffers, minibatch)\nassert torch.allclose(predictions2_vmap, torch.stack(predictions2), atol=1e-6, rtol=1e-6)"
      ]
    },
    {
      "cell_type": "markdown",
      "metadata": {},
      "source": [
        "## Performance\nComparing Option 1 with and without vmap on a machine with an A100 GPU yields\nthe following output:\n\n"
      ]
    },
    {
      "cell_type": "code",
      "execution_count": null,
      "metadata": {
        "collapsed": false
      },
      "outputs": [],
      "source": [
        "from torch.utils.benchmark import Timer\nwithout_vmap = Timer(\n    stmt=\"torch.stack([model(minibatch) for model, minibatch in zip(models, minibatches)])\",\n    globals=globals())\nwith_vmap = Timer(\n    stmt=\"vmap(fmodel)(params, buffers, minibatches)\",\n    globals=globals())\n\n# <torch.utils.benchmark.utils.common.Measurement object at 0x7f1de2cc4c40>\n# [model(minibatch) for model, minibatch in zip(models, minibatches)]\n#   4.91 ms\n#   1 measurement, 1000 runs , 1 thread\n# <torch.utils.benchmark.utils.common.Measurement object at 0x7f1de2cc4be0>\n# vmap(fmodel)(params, buffers, minibatches)\n#   2.07 ms\n#   1 measurement, 1000 runs , 1 thread\nprint(without_vmap.timeit(1000))\nprint(with_vmap.timeit(1000))\n\n# This was a toy example but in general, we expect vmap to be faster than using\n# a for-loop and competitive with manually batching code by hand, especially\n# on newer hardware."
      ]
    }
  ],
  "metadata": {
    "kernelspec": {
      "display_name": "Python 3",
      "language": "python",
      "name": "python3"
    },
    "language_info": {
      "codemirror_mode": {
        "name": "ipython",
        "version": 3
      },
      "file_extension": ".py",
      "mimetype": "text/x-python",
      "name": "python",
      "nbconvert_exporter": "python",
      "pygments_lexer": "ipython3",
      "version": "3.9.4"
    }
  },
  "nbformat": 4,
  "nbformat_minor": 0
}